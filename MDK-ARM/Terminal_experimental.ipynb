{
 "cells": [
  {
   "cell_type": "code",
   "execution_count": 1,
   "metadata": {},
   "outputs": [],
   "source": [
    "# Importing library\n",
    "import numpy as np\n",
    "import serial\n",
    "import array\n",
    "import time\n",
    "import binascii\n",
    "import sys\n",
    "import numpy\n",
    "from matplotlib import pyplot as plt\n",
    "import struct\n",
    "\n",
    "\n",
    "class HL_emulator:\n",
    "    def __init__(self, port=\"\", speed_rate=921600):\n",
    "\n",
    "        self.port = port\n",
    "        self.speed_rate = speed_rate\n",
    "\n",
    "    def serial_start(self):\n",
    "        # If you have problems please check that library pyserial is installed and lib serial is not installed\n",
    "        # Also you need USB-COM driver cp2102\n",
    "        # Probably you don't know the number of serial com port in you PC, then you need to push win+R and write command \"devmgmt.msc\". After that find 'com_port' tab and silicon lab devices.\n",
    "        ser = serial.Serial(\n",
    "            self.port,\n",
    "            self.speed_rate,\n",
    "            timeout=1,\n",
    "            xonxoff=False,\n",
    "            rtscts=False,\n",
    "            dsrdtr=False,\n",
    "        )\n",
    "        self.ser = ser\n",
    "        ser.setRTS(False)\n",
    "        ser.setDTR(False)\n",
    "        print(\"Port connected\")\n",
    "\n",
    "    def serial_close(self):\n",
    "        self.ser.close()\n",
    "        print(\"Port disconnected\")\n",
    "\n",
    "    def get_serial(self):\n",
    "        return self.ser\n",
    "\n",
    "    def serial_is_open(self):\n",
    "        if self.ser.isOpen()==True:\n",
    "            print(\"Serial is opening\")\n",
    "        else:\n",
    "            print(\"Serial is close\")\n",
    "        return self.ser.isOpen()\n",
    "        \n",
    "\n",
    "class STM_API:\n",
    "\n",
    "    def __init__(self, ser):\n",
    "        self.ser = ser\n",
    "\n",
    "    def CRC_Calc(self, packet: bytearray):\n",
    "        crc = 0\n",
    "        for ik in range(2, packet[2] + 2):\n",
    "            crc += packet[ik]\n",
    "        crc = ~crc\n",
    "        crc &= 0xFF\n",
    "        return bytearray([crc])\n",
    "\n",
    "    def Send_Packet(self, cmd: bytes, data: bytearray, data_length: bytes):\n",
    "        packet = bytearray([0xFF, 0xFF, data_length + 2, cmd]) + data\n",
    "        packet += self.CRC_Calc(packet)\n",
    "        self.ser.flushInput()\n",
    "        self.ser.write(packet)\n",
    "        return 0\n",
    "\n",
    "    def robot_set_coord(self, x: float, y: float, phi: float):\n",
    "        cmd = 0x06\n",
    "        data = bytearray(self.struct.pack(\"f\", x))\n",
    "        data += bytearray(self.struct.pack(\"f\", y))\n",
    "        data += bytearray(self.struct.pack(\"f\", phi))\n",
    "        data_length = 12\n",
    "        self.Send_Packet(cmd, data, data_length)\n",
    "\n",
    "    def robot_set_speed(self, dx: float, dy: float, dphi: float):\n",
    "        cmd = 0x04\n",
    "        data = bytearray(struct.pack(\"f\", dx))\n",
    "        data += bytearray(struct.pack(\"f\", dy))\n",
    "        data += bytearray(struct.pack(\"f\", dphi))\n",
    "        data_length = 12\n",
    "        self.Send_Packet(cmd, data, data_length)\n",
    "\n",
    "    def robot_get_speed(self):\n",
    "        cmd = 0x05\n",
    "        data = bytearray()\n",
    "        data_length = 0\n",
    "        self.Send_Packet(cmd, data, data_length)\n",
    "        rx_packet = self.ser.read(17)\n",
    "        speed = struct.unpack(\"f\", rx_packet[4:8])\n",
    "        speed += struct.unpack(\"f\", rx_packet[8:12])\n",
    "        speed += struct.unpack(\"f\", rx_packet[12:16])\n",
    "        return speed\n",
    "\n",
    "    def robot_get_coord(self):\n",
    "        cmd = 0x07\n",
    "        data = bytearray()\n",
    "        data_length = 0\n",
    "        self.Send_Packet(cmd, data, data_length)\n",
    "        rx_packet = self.ser.read(17)\n",
    "        coord = self.struct.unpack(\"f\", rx_packet[4:8])\n",
    "        coord += self.struct.unpack(\"f\", rx_packet[8:12])\n",
    "        coord += self.struct.unpack(\"f\", rx_packet[12:16])\n",
    "        return coord\n",
    "\n",
    "    def get_angle(self,ID):\n",
    "        cmd = 0x08\n",
    "        data = bytearray([ID])\n",
    "        data_length = 1\n",
    "        self.Send_Packet(cmd,data,data_length)\n",
    "\n",
    "        rx_packet = self.ser.read(7)\n",
    "        angle = struct.unpack('h', rx_packet[4:6])\n",
    "        print(angle)\n",
    "    \n",
    "    def set_angle(self, ID, angle):\n",
    "        cmd = 0x03\n",
    "        data = bytearray([ID,angle&0xFF,(angle>>8)&0xFF])\n",
    "        data_length = 3\n",
    "        self.Send_Packet(cmd,data,data_length)\n",
    "        time.sleep(0.01)\n",
    "    \n",
    "    def grub_pile(self, side):\n",
    "        cmd = 0x09\n",
    "        \n",
    "\n",
    "        data = bytearray([side])\n",
    "        data_length = 1\n",
    "\n",
    "        self.Send_Packet(cmd,data,data_length)\n",
    "    \n",
    "    def release_pile(self,side):\n",
    "        cmd = 0x0A\n",
    "        \n",
    "\n",
    "        data = bytearray([side])\n",
    "        data_length = 1\n",
    "\n",
    "        self.Send_Packet(cmd,data,data_length)\n",
    "    \n",
    "    def get_grub_status(self,side):\n",
    "        cmd = 0x0B\n",
    "        data = bytearray(struct.pack('i', side))\n",
    "        data_length = 4\n",
    "        self.Send_Packet(cmd,data,data_length)\n",
    "        rx_packet = self.ser.read(6)\n",
    "        status = rx_packet[4]\n",
    "        return status\n",
    "\n",
    "    def get_release_status(self,side):\n",
    "        cmd = 0x0D\n",
    "        data = bytearray(struct.pack('i', side))\n",
    "        data_length = 4\n",
    "        self.Send_Packet(cmd,data,data_length)\n",
    "        rx_packet = self.ser.read(6)\n",
    "        status = rx_packet[4]\n",
    "        return status\n",
    "\n",
    "    def set_wheel_mode(self, ID):\n",
    "        cmd = 0x0F\n",
    "        data = bytearray([ID])\n",
    "        data_length = 1\n",
    "        self.Send_Packet(cmd, data, data_length)\n",
    "\n",
    "    def set_joint_mode(self, ID):\n",
    "        cmd = 0x10\n",
    "        data = bytearray([ID])\n",
    "        data_length = 1\n",
    "        self.Send_Packet(cmd, data, data_length)\n",
    "    \n",
    "    def set_speed(self, ID, speed):\n",
    "        cmd = 0x11\n",
    "        # data = bytearray([ID, *speed.to_bytes(2, 'little')])\n",
    "        data =bytearray([ID])\n",
    "        data += bytearray(struct.pack('h', speed))\n",
    "        data_length = 3\n",
    "        self.Send_Packet(cmd, data, data_length)\n",
    "\n",
    "    def step_angle(self, ID, angle):\n",
    "        cmd = 0x13\n",
    "        data =bytearray([ID])\n",
    "        data += bytearray(struct.pack('i', angle))\n",
    "        data_length = 5\n",
    "        self.Send_Packet(cmd, data, data_length)\n",
    "\n",
    "    def stop_stepper(self, ID):\n",
    "        cmd = 0x14\n",
    "        data =bytearray([ID])\n",
    "        data_length = 1\n",
    "        self.Send_Packet(cmd, data, data_length)\n",
    "\n",
    "    def set_pwm(self, ID, speed):\n",
    "        cmd = 0x12\n",
    "        data = bytearray([ID, *speed.to_bytes(2, 'little')])\n",
    "        data_length = 3\n",
    "        self.Send_Packet(cmd, data, data_length)\n",
    "\n",
    "    def calibrate(self, ID):\n",
    "        self.set_pwm(ID, 100)\n",
    "        time.sleep(2)\n",
    "        self.set_pwm(ID, 200)\n",
    "        time.sleep(3)\n",
    "        self.set_pwm(ID, 100)\n",
    "        \n",
    "    def robot_set_speed_e(self, dx: float, dy: float, dphi: float):\n",
    "        cmd = 0x15\n",
    "        data = bytearray(struct.pack(\"f\", dx))\n",
    "        data += bytearray(struct.pack(\"f\", dy))\n",
    "        data += bytearray(struct.pack(\"f\", dphi))\n",
    "        data_length = 12\n",
    "        self.Send_Packet(cmd, data, data_length)\n",
    "\n",
    "    def motor_flag(self):\n",
    "        cmd = 0x16\n",
    "        data= bytearray(struct.pack(\"?\", 1))\n",
    "        data_length = 1\n",
    "        self.Send_Packet(cmd,data,data_length)\n",
    "\n",
    "    def motor_on(self):\n",
    "        cmd = 0x17\n",
    "        data= bytearray(struct.pack(\"?\", 1))\n",
    "        data_length = 1\n",
    "        self.Send_Packet(cmd,data,data_length)\n",
    "\n",
    "    def motor_off(self):\n",
    "        cmd = 0x17\n",
    "        data= bytearray(struct.pack(\"?\", 0))\n",
    "        data_length = 0\n",
    "        self.Send_Packet(cmd,data,data_length)\n",
    "\n"
   ]
  },
  {
   "cell_type": "code",
   "execution_count": 2,
   "metadata": {},
   "outputs": [
    {
     "name": "stdout",
     "output_type": "stream",
     "text": [
      "Port connected\n",
      "Serial is opening\n"
     ]
    }
   ],
   "source": [
    "vova_em='/dev/cu.SLAB_USBtoUART'\n",
    "ser_em_desk=\"COM4\"\n",
    "ser_em_laptop=\"COM30\"\n",
    "\n",
    "emulator=HL_emulator(port=ser_em_desk)\n",
    "emulator.serial_start()\n",
    "emulator.serial_is_open()\n",
    "ST=STM_API(ser=emulator.get_serial())"
   ]
  },
  {
   "cell_type": "code",
   "execution_count": 88,
   "metadata": {},
   "outputs": [],
   "source": [
    "ST.motor_on()"
   ]
  },
  {
   "cell_type": "code",
   "execution_count": 28,
   "metadata": {},
   "outputs": [],
   "source": [
    "ST.motor_flag()"
   ]
  },
  {
   "cell_type": "code",
   "execution_count": 596,
   "metadata": {},
   "outputs": [],
   "source": [
    "ST.motor_off()"
   ]
  },
  {
   "cell_type": "code",
   "execution_count": 20,
   "metadata": {},
   "outputs": [
    {
     "name": "stdout",
     "output_type": "stream",
     "text": [
      "Port disconnected\n"
     ]
    }
   ],
   "source": [
    "emulator.serial_close()"
   ]
  },
  {
   "cell_type": "code",
   "execution_count": 25,
   "metadata": {},
   "outputs": [],
   "source": [
    "ST.step_angle(0, -2000)"
   ]
  },
  {
   "cell_type": "code",
   "execution_count": 16,
   "metadata": {},
   "outputs": [],
   "source": [
    "ST.step_angle(0, 6400)"
   ]
  },
  {
   "cell_type": "code",
   "execution_count": 85,
   "metadata": {},
   "outputs": [
    {
     "ename": "SerialException",
     "evalue": "WriteFile failed (PermissionError(13, 'Устройство не опознает команду.', None, 22))",
     "output_type": "error",
     "traceback": [
      "\u001b[1;31m---------------------------------------------------------------------------\u001b[0m",
      "\u001b[1;31mSerialException\u001b[0m                           Traceback (most recent call last)",
      "Cell \u001b[1;32mIn [85], line 2\u001b[0m\n\u001b[0;32m      1\u001b[0m \u001b[39mfor\u001b[39;00m i \u001b[39min\u001b[39;00m \u001b[39mrange\u001b[39m (\u001b[39m0\u001b[39m,\u001b[39m10\u001b[39m):\n\u001b[1;32m----> 2\u001b[0m     ST\u001b[39m.\u001b[39;49mstep_angle(\u001b[39m0\u001b[39;49m, \u001b[39m3200\u001b[39;49m)\n\u001b[0;32m      3\u001b[0m     time\u001b[39m.\u001b[39msleep(\u001b[39m2\u001b[39m)\n",
      "Cell \u001b[1;32mIn [33], line 187\u001b[0m, in \u001b[0;36mSTM_API.step_angle\u001b[1;34m(self, ID, angle)\u001b[0m\n\u001b[0;32m    185\u001b[0m data \u001b[39m+\u001b[39m\u001b[39m=\u001b[39m \u001b[39mbytearray\u001b[39m(struct\u001b[39m.\u001b[39mpack(\u001b[39m'\u001b[39m\u001b[39mi\u001b[39m\u001b[39m'\u001b[39m, angle))\n\u001b[0;32m    186\u001b[0m data_length \u001b[39m=\u001b[39m \u001b[39m5\u001b[39m\n\u001b[1;32m--> 187\u001b[0m \u001b[39mself\u001b[39;49m\u001b[39m.\u001b[39;49mSend_Packet(cmd, data, data_length)\n",
      "Cell \u001b[1;32mIn [33], line 68\u001b[0m, in \u001b[0;36mSTM_API.Send_Packet\u001b[1;34m(self, cmd, data, data_length)\u001b[0m\n\u001b[0;32m     66\u001b[0m packet \u001b[39m+\u001b[39m\u001b[39m=\u001b[39m \u001b[39mself\u001b[39m\u001b[39m.\u001b[39mCRC_Calc(packet)\n\u001b[0;32m     67\u001b[0m \u001b[39mself\u001b[39m\u001b[39m.\u001b[39mser\u001b[39m.\u001b[39mflushInput()\n\u001b[1;32m---> 68\u001b[0m \u001b[39mself\u001b[39;49m\u001b[39m.\u001b[39;49mser\u001b[39m.\u001b[39;49mwrite(packet)\n\u001b[0;32m     69\u001b[0m \u001b[39mreturn\u001b[39;00m \u001b[39m0\u001b[39m\n",
      "File \u001b[1;32mc:\\Users\\serge\\AppData\\Local\\Programs\\Python\\Python311\\Lib\\site-packages\\serial\\serialwin32.py:317\u001b[0m, in \u001b[0;36mSerial.write\u001b[1;34m(self, data)\u001b[0m\n\u001b[0;32m    315\u001b[0m \u001b[39mif\u001b[39;00m \u001b[39mself\u001b[39m\u001b[39m.\u001b[39m_write_timeout \u001b[39m!=\u001b[39m \u001b[39m0\u001b[39m:  \u001b[39m# if blocking (None) or w/ write timeout (>0)\u001b[39;00m\n\u001b[0;32m    316\u001b[0m     \u001b[39mif\u001b[39;00m \u001b[39mnot\u001b[39;00m success \u001b[39mand\u001b[39;00m win32\u001b[39m.\u001b[39mGetLastError() \u001b[39mnot\u001b[39;00m \u001b[39min\u001b[39;00m (win32\u001b[39m.\u001b[39mERROR_SUCCESS, win32\u001b[39m.\u001b[39mERROR_IO_PENDING):\n\u001b[1;32m--> 317\u001b[0m         \u001b[39mraise\u001b[39;00m SerialException(\u001b[39m\"\u001b[39m\u001b[39mWriteFile failed (\u001b[39m\u001b[39m{!r}\u001b[39;00m\u001b[39m)\u001b[39m\u001b[39m\"\u001b[39m\u001b[39m.\u001b[39mformat(ctypes\u001b[39m.\u001b[39mWinError()))\n\u001b[0;32m    319\u001b[0m     \u001b[39m# Wait for the write to complete.\u001b[39;00m\n\u001b[0;32m    320\u001b[0m     \u001b[39m#~ win32.WaitForSingleObject(self._overlapped_write.hEvent, win32.INFINITE)\u001b[39;00m\n\u001b[0;32m    321\u001b[0m     win32\u001b[39m.\u001b[39mGetOverlappedResult(\u001b[39mself\u001b[39m\u001b[39m.\u001b[39m_port_handle, \u001b[39mself\u001b[39m\u001b[39m.\u001b[39m_overlapped_write, ctypes\u001b[39m.\u001b[39mbyref(n), \u001b[39mTrue\u001b[39;00m)\n",
      "\u001b[1;31mSerialException\u001b[0m: WriteFile failed (PermissionError(13, 'Устройство не опознает команду.', None, 22))"
     ]
    }
   ],
   "source": [
    "for i in range (0,10):\n",
    "    ST.step_angle(0, 3200)\n",
    "    time.sleep(2)"
   ]
  },
  {
   "cell_type": "code",
   "execution_count": 69,
   "metadata": {},
   "outputs": [],
   "source": [
    "ST.stop_stepper(3)"
   ]
  },
  {
   "cell_type": "code",
   "execution_count": 87,
   "metadata": {},
   "outputs": [
    {
     "ename": "AttributeError",
     "evalue": "'STM_API' object has no attribute 'struct'",
     "output_type": "error",
     "traceback": [
      "\u001b[0;31m---------------------------------------------------------------------------\u001b[0m",
      "\u001b[0;31mAttributeError\u001b[0m                            Traceback (most recent call last)",
      "Cell \u001b[0;32mIn [87], line 1\u001b[0m\n\u001b[0;32m----> 1\u001b[0m ST\u001b[39m.\u001b[39mrobot_set_speed_e(\u001b[39m0.8\u001b[39m, \u001b[39m0\u001b[39m, \u001b[39m0\u001b[39m)\n\u001b[1;32m      2\u001b[0m time\u001b[39m.\u001b[39msleep(\u001b[39m1\u001b[39m)\n\u001b[1;32m      3\u001b[0m now \u001b[39m=\u001b[39m time\u001b[39m.\u001b[39mtime_ns()\n",
      "Cell \u001b[0;32mIn [82], line 209\u001b[0m, in \u001b[0;36mSTM_API.robot_set_speed_e\u001b[0;34m(self, dx, dy, dphi)\u001b[0m\n\u001b[1;32m    207\u001b[0m \u001b[39mdef\u001b[39;00m \u001b[39mrobot_set_speed_e\u001b[39m(\u001b[39mself\u001b[39m, dx: \u001b[39mfloat\u001b[39m, dy: \u001b[39mfloat\u001b[39m, dphi: \u001b[39mfloat\u001b[39m):\n\u001b[1;32m    208\u001b[0m     cmd \u001b[39m=\u001b[39m \u001b[39m0x15\u001b[39m\n\u001b[0;32m--> 209\u001b[0m     data \u001b[39m=\u001b[39m \u001b[39mbytearray\u001b[39m(\u001b[39mself\u001b[39;49m\u001b[39m.\u001b[39;49mstruct\u001b[39m.\u001b[39mpack(\u001b[39m\"\u001b[39m\u001b[39mf\u001b[39m\u001b[39m\"\u001b[39m, dx))\n\u001b[1;32m    210\u001b[0m     data \u001b[39m+\u001b[39m\u001b[39m=\u001b[39m \u001b[39mbytearray\u001b[39m(\u001b[39mself\u001b[39m\u001b[39m.\u001b[39mstruct\u001b[39m.\u001b[39mpack(\u001b[39m\"\u001b[39m\u001b[39mf\u001b[39m\u001b[39m\"\u001b[39m, dy))\n\u001b[1;32m    211\u001b[0m     data \u001b[39m+\u001b[39m\u001b[39m=\u001b[39m \u001b[39mbytearray\u001b[39m(\u001b[39mself\u001b[39m\u001b[39m.\u001b[39mstruct\u001b[39m.\u001b[39mpack(\u001b[39m\"\u001b[39m\u001b[39mf\u001b[39m\u001b[39m\"\u001b[39m, dphi))\n",
      "\u001b[0;31mAttributeError\u001b[0m: 'STM_API' object has no attribute 'struct'"
     ]
    }
   ],
   "source": [
    "ST.robot_set_speed_e(0.8, 0, 0)\n",
    "time.sleep(1)\n",
    "now = time.time_ns()\n",
    "while(1):\n",
    "    speed = ST.robot_get_speed()[0]\n",
    "    if abs(speed) < 0.01:\n",
    "        print(speed)\n",
    "        print(time.time_ns() - now)\n",
    "        break\n",
    "    "
   ]
  },
  {
   "cell_type": "code",
   "execution_count": 238,
   "metadata": {},
   "outputs": [],
   "source": [
    "ST.robot_set_speed_e(0.1, 0.1, 0.1)"
   ]
  },
  {
   "cell_type": "code",
   "execution_count": 239,
   "metadata": {},
   "outputs": [],
   "source": [
    "ST.robot_set_speed(0, 0, 0)"
   ]
  },
  {
   "cell_type": "code",
   "execution_count": 214,
   "metadata": {},
   "outputs": [
    {
     "data": {
      "text/plain": [
       "(-0.008603401482105255, -0.004967175889760256, 0.092412568628788)"
      ]
     },
     "execution_count": 214,
     "metadata": {},
     "output_type": "execute_result"
    }
   ],
   "source": [
    "ST.robot_get_speed()"
   ]
  },
  {
   "cell_type": "code",
   "execution_count": null,
   "metadata": {},
   "outputs": [],
   "source": []
  }
 ],
 "metadata": {
  "kernelspec": {
   "display_name": "Python 3.11.0 64-bit",
   "language": "python",
   "name": "python3"
  },
  "language_info": {
   "codemirror_mode": {
    "name": "ipython",
    "version": 3
   },
   "file_extension": ".py",
   "mimetype": "text/x-python",
   "name": "python",
   "nbconvert_exporter": "python",
   "pygments_lexer": "ipython3",
   "version": "3.11.0"
  },
  "orig_nbformat": 4,
  "vscode": {
   "interpreter": {
    "hash": "e1647c5f0596b6a9ea1a0669c0b92e6fe8201984aa001c8c575c9440bce26013"
   }
  }
 },
 "nbformat": 4,
 "nbformat_minor": 2
}
